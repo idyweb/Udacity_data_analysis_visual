{
 "cells": [
  {
   "cell_type": "markdown",
   "id": "4692fd62",
   "metadata": {},
   "source": [
    "\n",
    "\n",
    "# Project: Investigate a Dataset - No show appointments\n",
    "\n",
    "## Table of Contents\n",
    "<ul>\n",
    "<li><a href=\"#intro\">Introduction</a></li>\n",
    "<li><a href=\"#wrangling\">Data Wrangling</a></li>\n",
    "<li><a href=\"#eda\">Exploratory Data Analysis</a></li>\n",
    "<li><a href=\"#conclusions\">Conclusions</a></li>\n",
    "</ul>"
   ]
  },
  {
   "cell_type": "markdown",
   "id": "1ff6e06c",
   "metadata": {},
   "source": [
    "<a id='intro'></a>\n",
    "## Introduction\n",
    "\n",
    "### Dataset Description \n",
    "\n",
    "This dataset shows information from 100k medical appointments in Brazil and is formed on the question of whether or nor paitents show up for their appointments.\n",
    "\n",
    "\n",
    "### Question(s) for Analysis\n",
    "(1) Does Patients having hypertension make them show up?\n",
    "\n",
    "(2) Does receiving sms make patients show up?\n",
    "\n",
    "(3) Does receiving the scholarship make paitents show up?\n",
    "\n",
    "(4) Does being male or female affect showing up for appointments?"
   ]
  },
  {
   "cell_type": "code",
   "execution_count": 1,
   "id": "cedafde9",
   "metadata": {},
   "outputs": [],
   "source": [
    "import pandas as pd\n",
    "import numpy as np\n",
    "import matplotlib.pyplot as plt\n",
    "import seaborn as sns\n",
    "%matplotlib inline\n"
   ]
  },
  {
   "cell_type": "markdown",
   "id": "6ad022e1",
   "metadata": {},
   "source": [
    "<a id='wrangling'></a>\n",
    "## Data Wrangling\n",
    "\n"
   ]
  },
  {
   "cell_type": "code",
   "execution_count": 2,
   "id": "beba9cfa",
   "metadata": {
    "scrolled": true
   },
   "outputs": [
    {
     "data": {
      "text/html": [
       "<div>\n",
       "<style scoped>\n",
       "    .dataframe tbody tr th:only-of-type {\n",
       "        vertical-align: middle;\n",
       "    }\n",
       "\n",
       "    .dataframe tbody tr th {\n",
       "        vertical-align: top;\n",
       "    }\n",
       "\n",
       "    .dataframe thead th {\n",
       "        text-align: right;\n",
       "    }\n",
       "</style>\n",
       "<table border=\"1\" class=\"dataframe\">\n",
       "  <thead>\n",
       "    <tr style=\"text-align: right;\">\n",
       "      <th></th>\n",
       "      <th>PatientId</th>\n",
       "      <th>AppointmentID</th>\n",
       "      <th>Gender</th>\n",
       "      <th>ScheduledDay</th>\n",
       "      <th>AppointmentDay</th>\n",
       "      <th>Age</th>\n",
       "      <th>Neighbourhood</th>\n",
       "      <th>Scholarship</th>\n",
       "      <th>Hipertension</th>\n",
       "      <th>Diabetes</th>\n",
       "      <th>Alcoholism</th>\n",
       "      <th>Handcap</th>\n",
       "      <th>SMS_received</th>\n",
       "      <th>No-show</th>\n",
       "    </tr>\n",
       "  </thead>\n",
       "  <tbody>\n",
       "    <tr>\n",
       "      <th>0</th>\n",
       "      <td>2.987250e+13</td>\n",
       "      <td>5642903</td>\n",
       "      <td>F</td>\n",
       "      <td>2016-04-29T18:38:08Z</td>\n",
       "      <td>2016-04-29T00:00:00Z</td>\n",
       "      <td>62</td>\n",
       "      <td>JARDIM DA PENHA</td>\n",
       "      <td>0</td>\n",
       "      <td>1</td>\n",
       "      <td>0</td>\n",
       "      <td>0</td>\n",
       "      <td>0</td>\n",
       "      <td>0</td>\n",
       "      <td>No</td>\n",
       "    </tr>\n",
       "    <tr>\n",
       "      <th>1</th>\n",
       "      <td>5.589978e+14</td>\n",
       "      <td>5642503</td>\n",
       "      <td>M</td>\n",
       "      <td>2016-04-29T16:08:27Z</td>\n",
       "      <td>2016-04-29T00:00:00Z</td>\n",
       "      <td>56</td>\n",
       "      <td>JARDIM DA PENHA</td>\n",
       "      <td>0</td>\n",
       "      <td>0</td>\n",
       "      <td>0</td>\n",
       "      <td>0</td>\n",
       "      <td>0</td>\n",
       "      <td>0</td>\n",
       "      <td>No</td>\n",
       "    </tr>\n",
       "    <tr>\n",
       "      <th>2</th>\n",
       "      <td>4.262962e+12</td>\n",
       "      <td>5642549</td>\n",
       "      <td>F</td>\n",
       "      <td>2016-04-29T16:19:04Z</td>\n",
       "      <td>2016-04-29T00:00:00Z</td>\n",
       "      <td>62</td>\n",
       "      <td>MATA DA PRAIA</td>\n",
       "      <td>0</td>\n",
       "      <td>0</td>\n",
       "      <td>0</td>\n",
       "      <td>0</td>\n",
       "      <td>0</td>\n",
       "      <td>0</td>\n",
       "      <td>No</td>\n",
       "    </tr>\n",
       "    <tr>\n",
       "      <th>3</th>\n",
       "      <td>8.679512e+11</td>\n",
       "      <td>5642828</td>\n",
       "      <td>F</td>\n",
       "      <td>2016-04-29T17:29:31Z</td>\n",
       "      <td>2016-04-29T00:00:00Z</td>\n",
       "      <td>8</td>\n",
       "      <td>PONTAL DE CAMBURI</td>\n",
       "      <td>0</td>\n",
       "      <td>0</td>\n",
       "      <td>0</td>\n",
       "      <td>0</td>\n",
       "      <td>0</td>\n",
       "      <td>0</td>\n",
       "      <td>No</td>\n",
       "    </tr>\n",
       "    <tr>\n",
       "      <th>4</th>\n",
       "      <td>8.841186e+12</td>\n",
       "      <td>5642494</td>\n",
       "      <td>F</td>\n",
       "      <td>2016-04-29T16:07:23Z</td>\n",
       "      <td>2016-04-29T00:00:00Z</td>\n",
       "      <td>56</td>\n",
       "      <td>JARDIM DA PENHA</td>\n",
       "      <td>0</td>\n",
       "      <td>1</td>\n",
       "      <td>1</td>\n",
       "      <td>0</td>\n",
       "      <td>0</td>\n",
       "      <td>0</td>\n",
       "      <td>No</td>\n",
       "    </tr>\n",
       "  </tbody>\n",
       "</table>\n",
       "</div>"
      ],
      "text/plain": [
       "      PatientId  AppointmentID Gender          ScheduledDay  \\\n",
       "0  2.987250e+13        5642903      F  2016-04-29T18:38:08Z   \n",
       "1  5.589978e+14        5642503      M  2016-04-29T16:08:27Z   \n",
       "2  4.262962e+12        5642549      F  2016-04-29T16:19:04Z   \n",
       "3  8.679512e+11        5642828      F  2016-04-29T17:29:31Z   \n",
       "4  8.841186e+12        5642494      F  2016-04-29T16:07:23Z   \n",
       "\n",
       "         AppointmentDay  Age      Neighbourhood  Scholarship  Hipertension  \\\n",
       "0  2016-04-29T00:00:00Z   62    JARDIM DA PENHA            0             1   \n",
       "1  2016-04-29T00:00:00Z   56    JARDIM DA PENHA            0             0   \n",
       "2  2016-04-29T00:00:00Z   62      MATA DA PRAIA            0             0   \n",
       "3  2016-04-29T00:00:00Z    8  PONTAL DE CAMBURI            0             0   \n",
       "4  2016-04-29T00:00:00Z   56    JARDIM DA PENHA            0             1   \n",
       "\n",
       "   Diabetes  Alcoholism  Handcap  SMS_received No-show  \n",
       "0         0           0        0             0      No  \n",
       "1         0           0        0             0      No  \n",
       "2         0           0        0             0      No  \n",
       "3         0           0        0             0      No  \n",
       "4         1           0        0             0      No  "
      ]
     },
     "execution_count": 2,
     "metadata": {},
     "output_type": "execute_result"
    }
   ],
   "source": [
    "df = pd.read_csv('noshowappointments-kagglev2-may-2016.csv')\n",
    "df.head()"
   ]
  },
  {
   "cell_type": "markdown",
   "id": "f08b19ad",
   "metadata": {},
   "source": [
    "the data is messey and needs to be cleaned. column names are both in upper case and lower case, so i have to clean it to all lower so that everything will be consistent"
   ]
  },
  {
   "cell_type": "markdown",
   "id": "ad2fea57",
   "metadata": {},
   "source": [
    "### Data Cleaning\n",
    "\n",
    " "
   ]
  },
  {
   "cell_type": "code",
   "execution_count": 3,
   "id": "c8c58fce",
   "metadata": {},
   "outputs": [],
   "source": [
    "df.columns = df.columns.str.lower().str.replace('-','_')\n",
    "\n",
    "categorical_columns = list(df.dtypes[df.dtypes == 'object'].index)\n",
    "\n",
    "for c in categorical_columns:\n",
    "    df[c] = df[c].str.lower().str.replace(' ','_')"
   ]
  },
  {
   "cell_type": "markdown",
   "id": "167f3ead",
   "metadata": {},
   "source": [
    "i made every column of the dataset to be uniform. they all should be in lower case and i replaced a dash with an underscore. all these i did for easy reading and typing"
   ]
  },
  {
   "cell_type": "code",
   "execution_count": 4,
   "id": "5baa9a6b",
   "metadata": {},
   "outputs": [
    {
     "data": {
      "text/html": [
       "<div>\n",
       "<style scoped>\n",
       "    .dataframe tbody tr th:only-of-type {\n",
       "        vertical-align: middle;\n",
       "    }\n",
       "\n",
       "    .dataframe tbody tr th {\n",
       "        vertical-align: top;\n",
       "    }\n",
       "\n",
       "    .dataframe thead th {\n",
       "        text-align: right;\n",
       "    }\n",
       "</style>\n",
       "<table border=\"1\" class=\"dataframe\">\n",
       "  <thead>\n",
       "    <tr style=\"text-align: right;\">\n",
       "      <th></th>\n",
       "      <th>patientid</th>\n",
       "      <th>appointmentid</th>\n",
       "      <th>gender</th>\n",
       "      <th>scheduledday</th>\n",
       "      <th>appointmentday</th>\n",
       "      <th>age</th>\n",
       "      <th>neighbourhood</th>\n",
       "      <th>scholarship</th>\n",
       "      <th>hipertension</th>\n",
       "      <th>diabetes</th>\n",
       "      <th>alcoholism</th>\n",
       "      <th>handcap</th>\n",
       "      <th>sms_received</th>\n",
       "      <th>no_show</th>\n",
       "    </tr>\n",
       "  </thead>\n",
       "  <tbody>\n",
       "    <tr>\n",
       "      <th>0</th>\n",
       "      <td>2.987250e+13</td>\n",
       "      <td>5642903</td>\n",
       "      <td>f</td>\n",
       "      <td>2016-04-29t18:38:08z</td>\n",
       "      <td>2016-04-29t00:00:00z</td>\n",
       "      <td>62</td>\n",
       "      <td>jardim_da_penha</td>\n",
       "      <td>0</td>\n",
       "      <td>1</td>\n",
       "      <td>0</td>\n",
       "      <td>0</td>\n",
       "      <td>0</td>\n",
       "      <td>0</td>\n",
       "      <td>no</td>\n",
       "    </tr>\n",
       "    <tr>\n",
       "      <th>1</th>\n",
       "      <td>5.589978e+14</td>\n",
       "      <td>5642503</td>\n",
       "      <td>m</td>\n",
       "      <td>2016-04-29t16:08:27z</td>\n",
       "      <td>2016-04-29t00:00:00z</td>\n",
       "      <td>56</td>\n",
       "      <td>jardim_da_penha</td>\n",
       "      <td>0</td>\n",
       "      <td>0</td>\n",
       "      <td>0</td>\n",
       "      <td>0</td>\n",
       "      <td>0</td>\n",
       "      <td>0</td>\n",
       "      <td>no</td>\n",
       "    </tr>\n",
       "    <tr>\n",
       "      <th>2</th>\n",
       "      <td>4.262962e+12</td>\n",
       "      <td>5642549</td>\n",
       "      <td>f</td>\n",
       "      <td>2016-04-29t16:19:04z</td>\n",
       "      <td>2016-04-29t00:00:00z</td>\n",
       "      <td>62</td>\n",
       "      <td>mata_da_praia</td>\n",
       "      <td>0</td>\n",
       "      <td>0</td>\n",
       "      <td>0</td>\n",
       "      <td>0</td>\n",
       "      <td>0</td>\n",
       "      <td>0</td>\n",
       "      <td>no</td>\n",
       "    </tr>\n",
       "    <tr>\n",
       "      <th>3</th>\n",
       "      <td>8.679512e+11</td>\n",
       "      <td>5642828</td>\n",
       "      <td>f</td>\n",
       "      <td>2016-04-29t17:29:31z</td>\n",
       "      <td>2016-04-29t00:00:00z</td>\n",
       "      <td>8</td>\n",
       "      <td>pontal_de_camburi</td>\n",
       "      <td>0</td>\n",
       "      <td>0</td>\n",
       "      <td>0</td>\n",
       "      <td>0</td>\n",
       "      <td>0</td>\n",
       "      <td>0</td>\n",
       "      <td>no</td>\n",
       "    </tr>\n",
       "    <tr>\n",
       "      <th>4</th>\n",
       "      <td>8.841186e+12</td>\n",
       "      <td>5642494</td>\n",
       "      <td>f</td>\n",
       "      <td>2016-04-29t16:07:23z</td>\n",
       "      <td>2016-04-29t00:00:00z</td>\n",
       "      <td>56</td>\n",
       "      <td>jardim_da_penha</td>\n",
       "      <td>0</td>\n",
       "      <td>1</td>\n",
       "      <td>1</td>\n",
       "      <td>0</td>\n",
       "      <td>0</td>\n",
       "      <td>0</td>\n",
       "      <td>no</td>\n",
       "    </tr>\n",
       "  </tbody>\n",
       "</table>\n",
       "</div>"
      ],
      "text/plain": [
       "      patientid  appointmentid gender          scheduledday  \\\n",
       "0  2.987250e+13        5642903      f  2016-04-29t18:38:08z   \n",
       "1  5.589978e+14        5642503      m  2016-04-29t16:08:27z   \n",
       "2  4.262962e+12        5642549      f  2016-04-29t16:19:04z   \n",
       "3  8.679512e+11        5642828      f  2016-04-29t17:29:31z   \n",
       "4  8.841186e+12        5642494      f  2016-04-29t16:07:23z   \n",
       "\n",
       "         appointmentday  age      neighbourhood  scholarship  hipertension  \\\n",
       "0  2016-04-29t00:00:00z   62    jardim_da_penha            0             1   \n",
       "1  2016-04-29t00:00:00z   56    jardim_da_penha            0             0   \n",
       "2  2016-04-29t00:00:00z   62      mata_da_praia            0             0   \n",
       "3  2016-04-29t00:00:00z    8  pontal_de_camburi            0             0   \n",
       "4  2016-04-29t00:00:00z   56    jardim_da_penha            0             1   \n",
       "\n",
       "   diabetes  alcoholism  handcap  sms_received no_show  \n",
       "0         0           0        0             0      no  \n",
       "1         0           0        0             0      no  \n",
       "2         0           0        0             0      no  \n",
       "3         0           0        0             0      no  \n",
       "4         1           0        0             0      no  "
      ]
     },
     "execution_count": 4,
     "metadata": {},
     "output_type": "execute_result"
    }
   ],
   "source": [
    "df.head()"
   ]
  },
  {
   "cell_type": "markdown",
   "id": "8e108b1f",
   "metadata": {},
   "source": [
    "now everything is exactly the way i want it."
   ]
  },
  {
   "cell_type": "markdown",
   "id": "68f2846b",
   "metadata": {},
   "source": [
    "the patients id and the appointment id columns are not necessary for this analysis... as there are just a bunch of random number...so it has to be droped!"
   ]
  },
  {
   "cell_type": "code",
   "execution_count": 5,
   "id": "955e4e4a",
   "metadata": {},
   "outputs": [],
   "source": [
    "#drop paitent id and appointment id\n",
    "df= df.drop(['patientid','appointmentid'],axis=1)"
   ]
  },
  {
   "cell_type": "code",
   "execution_count": 6,
   "id": "a8d36b35",
   "metadata": {},
   "outputs": [
    {
     "data": {
      "text/html": [
       "<div>\n",
       "<style scoped>\n",
       "    .dataframe tbody tr th:only-of-type {\n",
       "        vertical-align: middle;\n",
       "    }\n",
       "\n",
       "    .dataframe tbody tr th {\n",
       "        vertical-align: top;\n",
       "    }\n",
       "\n",
       "    .dataframe thead th {\n",
       "        text-align: right;\n",
       "    }\n",
       "</style>\n",
       "<table border=\"1\" class=\"dataframe\">\n",
       "  <thead>\n",
       "    <tr style=\"text-align: right;\">\n",
       "      <th></th>\n",
       "      <th>gender</th>\n",
       "      <th>scheduledday</th>\n",
       "      <th>appointmentday</th>\n",
       "      <th>age</th>\n",
       "      <th>neighbourhood</th>\n",
       "      <th>scholarship</th>\n",
       "      <th>hipertension</th>\n",
       "      <th>diabetes</th>\n",
       "      <th>alcoholism</th>\n",
       "      <th>handcap</th>\n",
       "      <th>sms_received</th>\n",
       "      <th>no_show</th>\n",
       "    </tr>\n",
       "  </thead>\n",
       "  <tbody>\n",
       "    <tr>\n",
       "      <th>0</th>\n",
       "      <td>f</td>\n",
       "      <td>2016-04-29t18:38:08z</td>\n",
       "      <td>2016-04-29t00:00:00z</td>\n",
       "      <td>62</td>\n",
       "      <td>jardim_da_penha</td>\n",
       "      <td>0</td>\n",
       "      <td>1</td>\n",
       "      <td>0</td>\n",
       "      <td>0</td>\n",
       "      <td>0</td>\n",
       "      <td>0</td>\n",
       "      <td>no</td>\n",
       "    </tr>\n",
       "    <tr>\n",
       "      <th>1</th>\n",
       "      <td>m</td>\n",
       "      <td>2016-04-29t16:08:27z</td>\n",
       "      <td>2016-04-29t00:00:00z</td>\n",
       "      <td>56</td>\n",
       "      <td>jardim_da_penha</td>\n",
       "      <td>0</td>\n",
       "      <td>0</td>\n",
       "      <td>0</td>\n",
       "      <td>0</td>\n",
       "      <td>0</td>\n",
       "      <td>0</td>\n",
       "      <td>no</td>\n",
       "    </tr>\n",
       "    <tr>\n",
       "      <th>2</th>\n",
       "      <td>f</td>\n",
       "      <td>2016-04-29t16:19:04z</td>\n",
       "      <td>2016-04-29t00:00:00z</td>\n",
       "      <td>62</td>\n",
       "      <td>mata_da_praia</td>\n",
       "      <td>0</td>\n",
       "      <td>0</td>\n",
       "      <td>0</td>\n",
       "      <td>0</td>\n",
       "      <td>0</td>\n",
       "      <td>0</td>\n",
       "      <td>no</td>\n",
       "    </tr>\n",
       "    <tr>\n",
       "      <th>3</th>\n",
       "      <td>f</td>\n",
       "      <td>2016-04-29t17:29:31z</td>\n",
       "      <td>2016-04-29t00:00:00z</td>\n",
       "      <td>8</td>\n",
       "      <td>pontal_de_camburi</td>\n",
       "      <td>0</td>\n",
       "      <td>0</td>\n",
       "      <td>0</td>\n",
       "      <td>0</td>\n",
       "      <td>0</td>\n",
       "      <td>0</td>\n",
       "      <td>no</td>\n",
       "    </tr>\n",
       "    <tr>\n",
       "      <th>4</th>\n",
       "      <td>f</td>\n",
       "      <td>2016-04-29t16:07:23z</td>\n",
       "      <td>2016-04-29t00:00:00z</td>\n",
       "      <td>56</td>\n",
       "      <td>jardim_da_penha</td>\n",
       "      <td>0</td>\n",
       "      <td>1</td>\n",
       "      <td>1</td>\n",
       "      <td>0</td>\n",
       "      <td>0</td>\n",
       "      <td>0</td>\n",
       "      <td>no</td>\n",
       "    </tr>\n",
       "  </tbody>\n",
       "</table>\n",
       "</div>"
      ],
      "text/plain": [
       "  gender          scheduledday        appointmentday  age      neighbourhood  \\\n",
       "0      f  2016-04-29t18:38:08z  2016-04-29t00:00:00z   62    jardim_da_penha   \n",
       "1      m  2016-04-29t16:08:27z  2016-04-29t00:00:00z   56    jardim_da_penha   \n",
       "2      f  2016-04-29t16:19:04z  2016-04-29t00:00:00z   62      mata_da_praia   \n",
       "3      f  2016-04-29t17:29:31z  2016-04-29t00:00:00z    8  pontal_de_camburi   \n",
       "4      f  2016-04-29t16:07:23z  2016-04-29t00:00:00z   56    jardim_da_penha   \n",
       "\n",
       "   scholarship  hipertension  diabetes  alcoholism  handcap  sms_received  \\\n",
       "0            0             1         0           0        0             0   \n",
       "1            0             0         0           0        0             0   \n",
       "2            0             0         0           0        0             0   \n",
       "3            0             0         0           0        0             0   \n",
       "4            0             1         1           0        0             0   \n",
       "\n",
       "  no_show  \n",
       "0      no  \n",
       "1      no  \n",
       "2      no  \n",
       "3      no  \n",
       "4      no  "
      ]
     },
     "execution_count": 6,
     "metadata": {},
     "output_type": "execute_result"
    }
   ],
   "source": [
    "df.head()"
   ]
  },
  {
   "cell_type": "markdown",
   "id": "2ed5c587",
   "metadata": {},
   "source": [
    "## Exploratory Data Analysis\n",
    "\n",
    "\n"
   ]
  },
  {
   "cell_type": "code",
   "execution_count": 7,
   "id": "e27145dc",
   "metadata": {
    "scrolled": true
   },
   "outputs": [
    {
     "data": {
      "text/plain": [
       "(110527, 12)"
      ]
     },
     "execution_count": 7,
     "metadata": {},
     "output_type": "execute_result"
    }
   ],
   "source": [
    "df.shape"
   ]
  },
  {
   "cell_type": "markdown",
   "id": "2408ea96",
   "metadata": {},
   "source": [
    "there are 110527 rows and 12 columns in the dataset"
   ]
  },
  {
   "cell_type": "markdown",
   "id": "3b9afcd0",
   "metadata": {},
   "source": [
    "Next we check for missing values"
   ]
  },
  {
   "cell_type": "code",
   "execution_count": 8,
   "id": "8e9a7ae6",
   "metadata": {
    "scrolled": true
   },
   "outputs": [
    {
     "data": {
      "text/plain": [
       "gender            0\n",
       "scheduledday      0\n",
       "appointmentday    0\n",
       "age               0\n",
       "neighbourhood     0\n",
       "scholarship       0\n",
       "hipertension      0\n",
       "diabetes          0\n",
       "alcoholism        0\n",
       "handcap           0\n",
       "sms_received      0\n",
       "no_show           0\n",
       "dtype: int64"
      ]
     },
     "execution_count": 8,
     "metadata": {},
     "output_type": "execute_result"
    }
   ],
   "source": [
    "df.isnull().sum()"
   ]
  },
  {
   "cell_type": "markdown",
   "id": "dfa1e995",
   "metadata": {},
   "source": [
    "There are no missing values in our data set."
   ]
  },
  {
   "cell_type": "markdown",
   "id": "899a642d",
   "metadata": {},
   "source": [
    "Next, i check the statistical summary of the dataset"
   ]
  },
  {
   "cell_type": "code",
   "execution_count": 9,
   "id": "d8e5a8ca",
   "metadata": {
    "scrolled": true
   },
   "outputs": [
    {
     "data": {
      "text/html": [
       "<div>\n",
       "<style scoped>\n",
       "    .dataframe tbody tr th:only-of-type {\n",
       "        vertical-align: middle;\n",
       "    }\n",
       "\n",
       "    .dataframe tbody tr th {\n",
       "        vertical-align: top;\n",
       "    }\n",
       "\n",
       "    .dataframe thead th {\n",
       "        text-align: right;\n",
       "    }\n",
       "</style>\n",
       "<table border=\"1\" class=\"dataframe\">\n",
       "  <thead>\n",
       "    <tr style=\"text-align: right;\">\n",
       "      <th></th>\n",
       "      <th>age</th>\n",
       "      <th>scholarship</th>\n",
       "      <th>hipertension</th>\n",
       "      <th>diabetes</th>\n",
       "      <th>alcoholism</th>\n",
       "      <th>handcap</th>\n",
       "      <th>sms_received</th>\n",
       "    </tr>\n",
       "  </thead>\n",
       "  <tbody>\n",
       "    <tr>\n",
       "      <th>count</th>\n",
       "      <td>110527.000000</td>\n",
       "      <td>110527.000000</td>\n",
       "      <td>110527.000000</td>\n",
       "      <td>110527.000000</td>\n",
       "      <td>110527.000000</td>\n",
       "      <td>110527.000000</td>\n",
       "      <td>110527.000000</td>\n",
       "    </tr>\n",
       "    <tr>\n",
       "      <th>mean</th>\n",
       "      <td>37.088874</td>\n",
       "      <td>0.098266</td>\n",
       "      <td>0.197246</td>\n",
       "      <td>0.071865</td>\n",
       "      <td>0.030400</td>\n",
       "      <td>0.022248</td>\n",
       "      <td>0.321026</td>\n",
       "    </tr>\n",
       "    <tr>\n",
       "      <th>std</th>\n",
       "      <td>23.110205</td>\n",
       "      <td>0.297675</td>\n",
       "      <td>0.397921</td>\n",
       "      <td>0.258265</td>\n",
       "      <td>0.171686</td>\n",
       "      <td>0.161543</td>\n",
       "      <td>0.466873</td>\n",
       "    </tr>\n",
       "    <tr>\n",
       "      <th>min</th>\n",
       "      <td>-1.000000</td>\n",
       "      <td>0.000000</td>\n",
       "      <td>0.000000</td>\n",
       "      <td>0.000000</td>\n",
       "      <td>0.000000</td>\n",
       "      <td>0.000000</td>\n",
       "      <td>0.000000</td>\n",
       "    </tr>\n",
       "    <tr>\n",
       "      <th>25%</th>\n",
       "      <td>18.000000</td>\n",
       "      <td>0.000000</td>\n",
       "      <td>0.000000</td>\n",
       "      <td>0.000000</td>\n",
       "      <td>0.000000</td>\n",
       "      <td>0.000000</td>\n",
       "      <td>0.000000</td>\n",
       "    </tr>\n",
       "    <tr>\n",
       "      <th>50%</th>\n",
       "      <td>37.000000</td>\n",
       "      <td>0.000000</td>\n",
       "      <td>0.000000</td>\n",
       "      <td>0.000000</td>\n",
       "      <td>0.000000</td>\n",
       "      <td>0.000000</td>\n",
       "      <td>0.000000</td>\n",
       "    </tr>\n",
       "    <tr>\n",
       "      <th>75%</th>\n",
       "      <td>55.000000</td>\n",
       "      <td>0.000000</td>\n",
       "      <td>0.000000</td>\n",
       "      <td>0.000000</td>\n",
       "      <td>0.000000</td>\n",
       "      <td>0.000000</td>\n",
       "      <td>1.000000</td>\n",
       "    </tr>\n",
       "    <tr>\n",
       "      <th>max</th>\n",
       "      <td>115.000000</td>\n",
       "      <td>1.000000</td>\n",
       "      <td>1.000000</td>\n",
       "      <td>1.000000</td>\n",
       "      <td>1.000000</td>\n",
       "      <td>4.000000</td>\n",
       "      <td>1.000000</td>\n",
       "    </tr>\n",
       "  </tbody>\n",
       "</table>\n",
       "</div>"
      ],
      "text/plain": [
       "                 age    scholarship   hipertension       diabetes  \\\n",
       "count  110527.000000  110527.000000  110527.000000  110527.000000   \n",
       "mean       37.088874       0.098266       0.197246       0.071865   \n",
       "std        23.110205       0.297675       0.397921       0.258265   \n",
       "min        -1.000000       0.000000       0.000000       0.000000   \n",
       "25%        18.000000       0.000000       0.000000       0.000000   \n",
       "50%        37.000000       0.000000       0.000000       0.000000   \n",
       "75%        55.000000       0.000000       0.000000       0.000000   \n",
       "max       115.000000       1.000000       1.000000       1.000000   \n",
       "\n",
       "          alcoholism        handcap   sms_received  \n",
       "count  110527.000000  110527.000000  110527.000000  \n",
       "mean        0.030400       0.022248       0.321026  \n",
       "std         0.171686       0.161543       0.466873  \n",
       "min         0.000000       0.000000       0.000000  \n",
       "25%         0.000000       0.000000       0.000000  \n",
       "50%         0.000000       0.000000       0.000000  \n",
       "75%         0.000000       0.000000       1.000000  \n",
       "max         1.000000       4.000000       1.000000  "
      ]
     },
     "execution_count": 9,
     "metadata": {},
     "output_type": "execute_result"
    }
   ],
   "source": [
    "df.describe()"
   ]
  },
  {
   "cell_type": "markdown",
   "id": "9c43b170",
   "metadata": {},
   "source": [
    "the average age of paitent is 37years.\n",
    "\n",
    "the minimum age here is -1, that is abnormal, so that row will have to be dropped.\n",
    "\n",
    "the max age is 115. that looks like an outlier."
   ]
  },
  {
   "cell_type": "code",
   "execution_count": 10,
   "id": "ad757722",
   "metadata": {
    "scrolled": true
   },
   "outputs": [
    {
     "data": {
      "text/html": [
       "<div>\n",
       "<style scoped>\n",
       "    .dataframe tbody tr th:only-of-type {\n",
       "        vertical-align: middle;\n",
       "    }\n",
       "\n",
       "    .dataframe tbody tr th {\n",
       "        vertical-align: top;\n",
       "    }\n",
       "\n",
       "    .dataframe thead th {\n",
       "        text-align: right;\n",
       "    }\n",
       "</style>\n",
       "<table border=\"1\" class=\"dataframe\">\n",
       "  <thead>\n",
       "    <tr style=\"text-align: right;\">\n",
       "      <th></th>\n",
       "      <th>gender</th>\n",
       "      <th>scheduledday</th>\n",
       "      <th>appointmentday</th>\n",
       "      <th>age</th>\n",
       "      <th>neighbourhood</th>\n",
       "      <th>scholarship</th>\n",
       "      <th>hipertension</th>\n",
       "      <th>diabetes</th>\n",
       "      <th>alcoholism</th>\n",
       "      <th>handcap</th>\n",
       "      <th>sms_received</th>\n",
       "      <th>no_show</th>\n",
       "    </tr>\n",
       "  </thead>\n",
       "  <tbody>\n",
       "    <tr>\n",
       "      <th>99832</th>\n",
       "      <td>f</td>\n",
       "      <td>2016-06-06t08:58:13z</td>\n",
       "      <td>2016-06-06t00:00:00z</td>\n",
       "      <td>-1</td>\n",
       "      <td>romão</td>\n",
       "      <td>0</td>\n",
       "      <td>0</td>\n",
       "      <td>0</td>\n",
       "      <td>0</td>\n",
       "      <td>0</td>\n",
       "      <td>0</td>\n",
       "      <td>no</td>\n",
       "    </tr>\n",
       "  </tbody>\n",
       "</table>\n",
       "</div>"
      ],
      "text/plain": [
       "      gender          scheduledday        appointmentday  age neighbourhood  \\\n",
       "99832      f  2016-06-06t08:58:13z  2016-06-06t00:00:00z   -1         romão   \n",
       "\n",
       "       scholarship  hipertension  diabetes  alcoholism  handcap  sms_received  \\\n",
       "99832            0             0         0           0        0             0   \n",
       "\n",
       "      no_show  \n",
       "99832      no  "
      ]
     },
     "execution_count": 10,
     "metadata": {},
     "output_type": "execute_result"
    }
   ],
   "source": [
    "#first we find the row with age== -1 and drop it\n",
    "df[df.age == -1]"
   ]
  },
  {
   "cell_type": "code",
   "execution_count": 11,
   "id": "e9047f91",
   "metadata": {},
   "outputs": [],
   "source": [
    "df = df.drop([99832])"
   ]
  },
  {
   "cell_type": "raw",
   "id": "c9421a71",
   "metadata": {},
   "source": [
    "Now i have dropped the row, next i will create a box plot to be sure there is an outlier.\n"
   ]
  },
  {
   "cell_type": "code",
   "execution_count": 12,
   "id": "9b20525e",
   "metadata": {},
   "outputs": [
    {
     "data": {
      "image/png": "[encoded data removed]",
      "text/plain": [
       "<Figure size 432x288 with 1 Axes>"
      ]
     },
     "metadata": {
      "needs_background": "light"
     },
     "output_type": "display_data"
    }
   ],
   "source": [
    "sns.boxplot(x='age',data=df);"
   ]
  },
  {
   "cell_type": "markdown",
   "id": "c8f5f9da",
   "metadata": {},
   "source": [
    "next i will create the histogram of the entire dataset"
   ]
  },
  {
   "cell_type": "code",
   "execution_count": 13,
   "id": "b727ad25",
   "metadata": {},
   "outputs": [
    {
     "data": {
      "image/png": "[encoded data removed]",
      "text/plain": [
       "<Figure size 1224x1224 with 9 Axes>"
      ]
     },
     "metadata": {
      "needs_background": "light"
     },
     "output_type": "display_data"
    }
   ],
   "source": [
    "df.hist(figsize=(17,17));"
   ]
  },
  {
   "cell_type": "markdown",
   "id": "523bde0d",
   "metadata": {},
   "source": [
    "the Age column is the only continuous variable in the dataset. the rest are classified into 0 and 1"
   ]
  },
  {
   "cell_type": "markdown",
   "id": "5c7539f4",
   "metadata": {},
   "source": [
    "i will create a countplot of the target column, to see how they are distributed"
   ]
  },
  {
   "cell_type": "code",
   "execution_count": 14,
   "id": "5ab0589c",
   "metadata": {},
   "outputs": [
    {
     "data": {
      "image/png": "[encoded data removed]",
      "text/plain": [
       "<Figure size 432x288 with 1 Axes>"
      ]
     },
     "metadata": {
      "needs_background": "light"
     },
     "output_type": "display_data"
    }
   ],
   "source": [
    "sns.countplot(x='no_show', data=df);"
   ]
  },
  {
   "cell_type": "markdown",
   "id": "7c3bc4da",
   "metadata": {},
   "source": [
    "from the graph above, there is a huge class imbalace..as thee are more people that show up to appointment, than those that dont."
   ]
  },
  {
   "cell_type": "code",
   "execution_count": 15,
   "id": "b43dcc86",
   "metadata": {
    "scrolled": true
   },
   "outputs": [
    {
     "name": "stderr",
     "output_type": "stream",
     "text": [
      "c:\\users\\user\\appdata\\local\\programs\\python\\python39\\lib\\site-packages\\seaborn\\_decorators.py:36: FutureWarning: Pass the following variable as a keyword arg: x. From version 0.12, the only valid positional argument will be `data`, and passing other arguments without an explicit keyword will result in an error or misinterpretation.\n",
      "  warnings.warn(\n"
     ]
    },
    {
     "data": {
      "text/plain": [
       "<seaborn.axisgrid.FacetGrid at 0x272a7647820>"
      ]
     },
     "execution_count": 15,
     "metadata": {},
     "output_type": "execute_result"
    },
    {
     "data": {
      "image/png": "[encoded data removed]",
      "text/plain": [
       "<Figure size 360x360 with 1 Axes>"
      ]
     },
     "metadata": {
      "needs_background": "light"
     },
     "output_type": "display_data"
    }
   ],
   "source": [
    "sns.catplot('gender',data=df,kind='count')"
   ]
  },
  {
   "cell_type": "markdown",
   "id": "ad4275b7",
   "metadata": {},
   "source": [
    "there are equally more females than male. "
   ]
  },
  {
   "cell_type": "markdown",
   "id": "f4bd1df1",
   "metadata": {},
   "source": [
    "### Research Question 1: how does gender show if patient show up or not?"
   ]
  },
  {
   "cell_type": "code",
   "execution_count": 16,
   "id": "7a3598e1",
   "metadata": {},
   "outputs": [],
   "source": [
    "def catplot(column,hue):\n",
    "    '''function that returns the seaborn catplot\n",
    "    '''\n",
    "    ax = sns.catplot(x=column,data=df, hue=hue, kind='count')\n",
    "    #ax.set_title('What gender showed up most')\n",
    "    #ax.fig.suptitle('What gender showed up most')\n",
    "    \n",
    "    return ax\n",
    "    \n",
    "        \n",
    "    \n",
    "    "
   ]
  },
  {
   "cell_type": "code",
   "execution_count": 17,
   "id": "de911216",
   "metadata": {},
   "outputs": [
    {
     "data": {
      "image/png": "[encoded data removed]",
      "text/plain": [
       "<Figure size 405.625x360 with 1 Axes>"
      ]
     },
     "metadata": {
      "needs_background": "light"
     },
     "output_type": "display_data"
    }
   ],
   "source": [
    "catplot('no_show','gender').set(title='plot showing Gender that showed up most');"
   ]
  },
  {
   "cell_type": "markdown",
   "id": "12597e77",
   "metadata": {},
   "source": [
    "it shows that more female show up for appointment than male. almost 50% more than men. and there are more females in our dataset."
   ]
  },
  {
   "cell_type": "markdown",
   "id": "fa4f8591",
   "metadata": {},
   "source": [
    "### Question 2: Does patient having hipertension make then show up?"
   ]
  },
  {
   "cell_type": "code",
   "execution_count": 18,
   "id": "346a7a47",
   "metadata": {},
   "outputs": [
    {
     "data": {
      "image/png": "[encoded data removed]",
      "text/plain": [
       "<Figure size 430.625x360 with 1 Axes>"
      ]
     },
     "metadata": {
      "needs_background": "light"
     },
     "output_type": "display_data"
    }
   ],
   "source": [
    "catplot('no_show','hipertension').set(title='Number of hipertension patient that showed up');"
   ]
  },
  {
   "cell_type": "markdown",
   "id": "20315fa8",
   "metadata": {},
   "source": [
    "people that had hypertension showed up more than those that didnt."
   ]
  },
  {
   "cell_type": "markdown",
   "id": "301126f9",
   "metadata": {},
   "source": [
    "### Question 3: Does recieving sms make paitent show up?"
   ]
  },
  {
   "cell_type": "code",
   "execution_count": 19,
   "id": "d382be5e",
   "metadata": {},
   "outputs": [
    {
     "data": {
      "image/png": "[encoded data removed]",
      "text/plain": [
       "<Figure size 436x360 with 1 Axes>"
      ]
     },
     "metadata": {
      "needs_background": "light"
     },
     "output_type": "display_data"
    }
   ],
   "source": [
    "catplot('no_show','sms_received').set(title='plot showing paitents that received sms and showed up');"
   ]
  },
  {
   "cell_type": "markdown",
   "id": "0df671f7",
   "metadata": {},
   "source": [
    "receiving sms alert helped paitent show up for their appointments"
   ]
  },
  {
   "cell_type": "markdown",
   "id": "4a75a0ae",
   "metadata": {},
   "source": [
    "### Question 4: Does recieving the scholarship affect showing up?\n"
   ]
  },
  {
   "cell_type": "code",
   "execution_count": 20,
   "id": "c339b0fc",
   "metadata": {},
   "outputs": [
    {
     "data": {
      "image/png": "[encoded data removed]",
      "text/plain": [
       "<Figure size 425x360 with 1 Axes>"
      ]
     },
     "metadata": {
      "needs_background": "light"
     },
     "output_type": "display_data"
    }
   ],
   "source": [
    "#did having a scholarship have effect on showing up or not?\n",
    "catplot('no_show','scholarship').set(title='Plot showing patients that received Scholarship and showed up');"
   ]
  },
  {
   "cell_type": "markdown",
   "id": "e214e1cf",
   "metadata": {},
   "source": [
    "people with scholarship really showed up for their appointments"
   ]
  },
  {
   "cell_type": "markdown",
   "id": "202abf8c",
   "metadata": {},
   "source": [
    "<a id='conclusions'></a>\n",
    "## Conclusions\n",
    "while exploring and analysing the No-show appointment dataset, i loaded the data using pandas and going through the dataset, there were no missing values. \n",
    "there weere columns in the dataset that will not help in our analysis like the 'paitientId' and the 'AppointmentId' columns. since these are a bunch of random numbers i dropped them from the dataset.\n",
    "\n",
    "\n",
    "From the analysis, the average age of the patients is 37years. and there are more females than males. Futhermore, my analysis shows there are more people that showed p for the appointment than thse that didnt and they were mostly females.\n",
    "\n",
    "we discovered that patients who recieve sms alert, have hypertension, are on scholarship and are also females, tend to show up more for their appointments.\n",
    "i also discovered that those who had the Scholarship showed up more with a count of approximately 80,000 according to the catplot on Research question 4.\n",
    "\n",
    "## Limitations:\n",
    "(1) Sampling Bias: there were more females than males in the dataset. and balancing this out may lead to different results and insights.\n",
    "\n",
    "(2) There were some hindrances like where a patients age was less than one. i had to drop it as its not a usual age.\n",
    "\n",
    "\n",
    "\n"
   ]
  },
  {
   "cell_type": "code",
   "execution_count": null,
   "id": "19769b4d",
   "metadata": {},
   "outputs": [],
   "source": []
  }
 ],
 "metadata": {
  "kernelspec": {
   "display_name": "Python 3 (ipykernel)",
   "language": "python",
   "name": "python3"
  },
  "language_info": {
   "codemirror_mode": {
    "name": "ipython",
    "version": 3
   },
   "file_extension": ".py",
   "mimetype": "text/x-python",
   "name": "python",
   "nbconvert_exporter": "python",
   "pygments_lexer": "ipython3",
   "version": "3.9.6"
  }
 },
 "nbformat": 4,
 "nbformat_minor": 5
}
